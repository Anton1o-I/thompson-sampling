{
 "cells": [
  {
   "cell_type": "markdown",
   "metadata": {},
   "source": [
    "# Poisson Thompson Sampling Experiment"
   ]
  },
  {
   "cell_type": "markdown",
   "metadata": {},
   "source": [
    "### Import Modules"
   ]
  },
  {
   "cell_type": "code",
   "execution_count": 1,
   "metadata": {},
   "outputs": [],
   "source": [
    "from thompson_sampling.poisson import PoissonExperiment\n",
    "from thompson_sampling.priors import GammaPrior\n",
    "from pandas import Series"
   ]
  },
  {
   "cell_type": "markdown",
   "metadata": {},
   "source": [
    "### Create Priors and Instantiate Experiment with Priors"
   ]
  },
  {
   "cell_type": "code",
   "execution_count": 2,
   "metadata": {},
   "outputs": [],
   "source": [
    "means = Series([100, 110, 75])\n",
    "variances = Series([75, 200, None])\n",
    "effective_sizes = Series([None, None, 3])\n",
    "labels = Series([\"option1\", \"option2\", \"option3\"])"
   ]
  },
  {
   "cell_type": "code",
   "execution_count": 3,
   "metadata": {},
   "outputs": [
    {
     "data": {
      "text/plain": [
       "{'option1': {'shape': 133.0, 'scale': 0.75},\n",
       " 'option2': {'shape': 60.0, 'scale': 1.818},\n",
       " 'option3': {'shape': 225.0, 'scale': 0.333}}"
      ]
     },
     "execution_count": 3,
     "metadata": {},
     "output_type": "execute_result"
    }
   ],
   "source": [
    "pr = GammaPrior()\n",
    "pr.add_multiple(means, variances, effective_sizes, labels)\n",
    "pr.priors"
   ]
  },
  {
   "cell_type": "code",
   "execution_count": 4,
   "metadata": {},
   "outputs": [],
   "source": [
    "experiment = PoissonExperiment(priors = pr)"
   ]
  },
  {
   "cell_type": "markdown",
   "metadata": {},
   "source": [
    "### Choose arms for the next experiment"
   ]
  },
  {
   "cell_type": "code",
   "execution_count": 5,
   "metadata": {},
   "outputs": [
    {
     "data": {
      "text/plain": [
       "'option2'"
      ]
     },
     "execution_count": 5,
     "metadata": {},
     "output_type": "execute_result"
    }
   ],
   "source": [
    "experiment.choose_arm()"
   ]
  },
  {
   "cell_type": "code",
   "execution_count": 6,
   "metadata": {},
   "outputs": [
    {
     "data": {
      "text/plain": [

       "'option1'"

      ]
     },
     "execution_count": 6,
     "metadata": {},
     "output_type": "execute_result"
    }
   ],
   "source": [
    "experiment.choose_arm()"
   ]
  },
  {
   "cell_type": "markdown",
   "metadata": {},
   "source": [
    "### Simulate posterior predictive distributions for all labels"
   ]
  },
  {
   "cell_type": "code",
   "execution_count": 7,
   "metadata": {},
   "outputs": [
    {
     "data": {
      "text/plain": [
       "[{'Label': 'option1', '95% Credible Interval': (76.0, 127.0), 'mean': 99.906},\n",
       " {'Label': 'option2', '95% Credible Interval': (77.0, 145.0), 'mean': 108.928},\n",
       " {'Label': 'option3', '95% Credible Interval': (57.0, 96.0), 'mean': 75.089}]"
      ]
     },
     "execution_count": 7,
     "metadata": {},
     "output_type": "execute_result"
    }
   ],
   "source": [
    "experiment.get_ppd(size = 5000) # size is the number of values to simulate for the distributions"
   ]
  },
  {
   "cell_type": "markdown",
   "metadata": {},
   "source": [
    "We can see the different distributions of the posterior predictives based on the current posterior"
   ]
  },
  {
   "cell_type": "markdown",
   "metadata": {},
   "source": [
    "### Update the options by providing the rewards\n"
   ]
  },
  {
   "cell_type": "code",
   "execution_count": 8,
   "metadata": {},
   "outputs": [
    {
     "data": {
      "text/plain": [

       "<thompson_sampling.poisson.PoissonExperiment at 0x125496710>"

      ]
     },
     "execution_count": 8,
     "metadata": {},
     "output_type": "execute_result"
    }
   ],
   "source": [
    "rewards = [{\"label\":\"option1\", \"reward\":150},{\"label\":\"option2\", \"reward\":30},{\"label\":\"option2\", \"reward\":10}]\n",
    "experiment.add_rewards(rewards)"
   ]
  },
  {
   "cell_type": "code",
   "execution_count": 9,
   "metadata": {},
   "outputs": [
    {
     "data": {
      "text/plain": [

       "[{'Label': 'option1', '95% Credible Interval': (97.0, 148.0), 'mean': 121.557},\n",
       " {'Label': 'option2', '95% Credible Interval': (26.0, 55.0), 'mean': 39.309},\n",
       " {'Label': 'option3', '95% Credible Interval': (56.0, 95.0), 'mean': 74.961}]"

      ]
     },
     "execution_count": 9,
     "metadata": {},
     "output_type": "execute_result"
    }
   ],
   "source": [
    "experiment.get_ppd(size=5000)"
   ]
  },
  {
   "cell_type": "markdown",
   "metadata": {},
   "source": [
    "We can see that the percentages for \"option1\" and \"option2\" have changed with the added information"
   ]
  },
  {
   "cell_type": "markdown",
   "metadata": {},
   "source": [
    "### View distribution of the posteriors"
   ]
  },
  {
   "cell_type": "code",
   "execution_count": 10,
   "metadata": {},
   "outputs": [
    {
     "data": {

      "image/png": "[encoded data removed]",

      "text/plain": [
       "<Figure size 432x288 with 1 Axes>"
      ]
     },
     "metadata": {
      "needs_background": "light"
     },
     "output_type": "display_data"
    }
   ],
   "source": [
    "experiment.plot_posterior()"
   ]
  },
  {
   "cell_type": "code",
   "execution_count": null,
   "metadata": {},
   "outputs": [],
   "source": []
  }
 ],
 "metadata": {
  "kernelspec": {
   "display_name": "thompson-sampling-kernel",
   "language": "python",
   "name": "thompson-sampling-kernel"
  },
  "language_info": {
   "codemirror_mode": {
    "name": "ipython",
    "version": 3
   },
   "file_extension": ".py",
   "mimetype": "text/x-python",
   "name": "python",
   "nbconvert_exporter": "python",
   "pygments_lexer": "ipython3",
   "version": "3.6.5"
  }
 },
 "nbformat": 4,
 "nbformat_minor": 2
}
