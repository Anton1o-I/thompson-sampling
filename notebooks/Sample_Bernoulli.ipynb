{
 "cells": [
  {
   "cell_type": "markdown",
   "metadata": {},
   "source": [
    "# Bernoulli Thompson Sampling Experiment"
   ]
  },
  {
   "cell_type": "markdown",
   "metadata": {},
   "source": [
    "### Import Modules"
   ]
  },
  {
   "cell_type": "code",
   "execution_count": 1,
   "metadata": {},
   "outputs": [],
   "source": [
    "from thompson_sampling.bernoulli import BernoulliExperiment\n",
    "from thompson_sampling.priors import BetaPrior\n",
    "from pandas import Series"
   ]
  },
  {
   "cell_type": "markdown",
   "metadata": {},
   "source": [
    "### Create Priors and Instantiate Experiment with Priors"
   ]
  },
  {
   "cell_type": "code",
   "execution_count": 2,
   "metadata": {},
   "outputs": [],
   "source": [
    "means = Series([0.5, 0.7, 0.6])\n",
    "variances = Series([0.1, 0.15, 0.23])\n",
    "effective_sizes = Series([3, 20, 10])\n",
    "labels = Series([\"drug1\", \"drug2\", \"drug3\"])"
   ]
  },
  {
   "cell_type": "code",
   "execution_count": 3,
   "metadata": {},
   "outputs": [
    {
     "data": {
      "text/plain": [
       "{'drug1': {'a': 2.0, 'b': 2.0},\n",
       " 'drug2': {'a': 14.0, 'b': 6.0},\n",
       " 'drug3': {'a': 6.0, 'b': 4.0}}"
      ]
     },
     "execution_count": 3,
     "metadata": {},
     "output_type": "execute_result"
    }
   ],
   "source": [
    "pr = BetaPrior()\n",
    "pr.add_multiple(means, variances, effective_sizes, labels)\n",
    "pr.priors"
   ]
  },
  {
   "cell_type": "code",
   "execution_count": 4,
   "metadata": {},
   "outputs": [],
   "source": [
    "experiment = BernoulliExperiment(priors = pr)"
   ]
  },
  {
   "cell_type": "markdown",
   "metadata": {},
   "source": [
    "### Choose arms for the next experiment"
   ]
  },
  {
   "cell_type": "code",
   "execution_count": 5,
   "metadata": {},
   "outputs": [
    {
     "data": {
      "text/plain": [
       "'drug2'"
      ]
     },
     "execution_count": 5,
     "metadata": {},
     "output_type": "execute_result"
    }
   ],
   "source": [
    "experiment.choose_arm()"
   ]
  },
  {
   "cell_type": "code",
   "execution_count": 6,
   "metadata": {},
   "outputs": [
    {
     "data": {
      "text/plain": [
       "'drug3'"
      ]
     },
     "execution_count": 6,
     "metadata": {},
     "output_type": "execute_result"
    }
   ],
   "source": [
    "experiment.choose_arm()"
   ]
  },
  {
   "cell_type": "markdown",
   "metadata": {},
   "source": [
    "### Simulate posterior predictive distributions for all labels"
   ]
  },
  {
   "cell_type": "code",
   "execution_count": 7,
   "metadata": {},
   "outputs": [
    {
     "data": {
      "text/plain": [
       "[{'Label': 'drug1',\n",
       "  'Percentage - Success': 0.5002,\n",
       "  'Percentage - Fail': 0.4998},\n",
       " {'Label': 'drug2',\n",
       "  'Percentage - Success': 0.7024,\n",
       "  'Percentage - Fail': 0.2976},\n",
       " {'Label': 'drug3',\n",
       "  'Percentage - Success': 0.5976,\n",
       "  'Percentage - Fail': 0.4024}]"
      ]
     },
     "execution_count": 7,
     "metadata": {},
     "output_type": "execute_result"
    }
   ],
   "source": [
    "experiment.get_ppd(size = 5000) # size is the number of values to simulate for the distributions"
   ]
  },
  {
   "cell_type": "markdown",
   "metadata": {},
   "source": [
    "We can see that \"drug 2\" has the highest simulated probability of success"
   ]
  },
  {
   "cell_type": "markdown",
   "metadata": {},
   "source": [
    "### Update the options by providing the rewards\n"
   ]
  },
  {
   "cell_type": "code",
   "execution_count": 8,
   "metadata": {},
   "outputs": [
    {
     "data": {
      "text/plain": [
       "<thompson_sampling.bernoulli.BernoulliExperiment at 0x1240c0748>"
      ]
     },
     "execution_count": 8,
     "metadata": {},
     "output_type": "execute_result"
    }
   ],
   "source": [
    "rewards = [{\"label\":\"drug1\", \"reward\":1},{\"label\":\"drug2\", \"reward\":0},{\"label\":\"drug2\", \"reward\":0}]\n",
    "experiment.add_rewards(rewards)"
   ]
  },
  {
   "cell_type": "code",
   "execution_count": 9,
   "metadata": {},
   "outputs": [
    {
     "data": {
      "text/plain": [
       "[{'Label': 'drug1',\n",
       "  'Percentage - Success': 0.6078,\n",
       "  'Percentage - Fail': 0.3922},\n",
       " {'Label': 'drug2', 'Percentage - Success': 0.639, 'Percentage - Fail': 0.361},\n",
       " {'Label': 'drug3',\n",
       "  'Percentage - Success': 0.5944,\n",
       "  'Percentage - Fail': 0.4056}]"
      ]
     },
     "execution_count": 9,
     "metadata": {},
     "output_type": "execute_result"
    }
   ],
   "source": [
    "experiment.get_ppd(size=5000)"
   ]
  },
  {
   "cell_type": "markdown",
   "metadata": {},
   "source": [
    "We can see that the percentages for \"drug1\" and \"drug2\" have changed with the added information"
   ]
  },
  {
   "cell_type": "markdown",
   "metadata": {},
   "source": [
    "### View distribution of the posteriors"
   ]
  },
  {
   "cell_type": "code",
   "execution_count": 12,
   "metadata": {},
   "outputs": [
    {
     "data": {
      "image/png": "[encoded data removed]",
      "text/plain": [
       "<Figure size 432x288 with 1 Axes>"
      ]
     },
     "metadata": {
      "needs_background": "light"
     },
     "output_type": "display_data"
    }
   ],
   "source": [
    "experiment.plot_posterior()"
   ]
  },
  {
   "cell_type": "code",
   "execution_count": null,
   "metadata": {},
   "outputs": [],
   "source": []
  }
 ],
 "metadata": {
  "kernelspec": {
   "display_name": "thompson-sampling-kernel",
   "language": "python",
   "name": "thompson-sampling-kernel"
  },
  "language_info": {
   "codemirror_mode": {
    "name": "ipython",
    "version": 3
   },
   "file_extension": ".py",
   "mimetype": "text/x-python",
   "name": "python",
   "nbconvert_exporter": "python",
   "pygments_lexer": "ipython3",
   "version": "3.6.5"
  }
 },
 "nbformat": 4,
 "nbformat_minor": 2
}
