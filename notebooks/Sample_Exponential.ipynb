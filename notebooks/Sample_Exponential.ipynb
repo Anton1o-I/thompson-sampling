{
 "cells": [
  {
   "cell_type": "markdown",
   "metadata": {},
   "source": [
    "# Exponential Thompson Sampling Experiment"
   ]
  },
  {
   "cell_type": "markdown",
   "metadata": {},
   "source": [
    "### Import Modules"
   ]
  },
  {
   "cell_type": "code",
   "execution_count": 1,
   "metadata": {},
   "outputs": [],
   "source": [
    "from thompson_sampling.exponential import ExponentialExperiment\n",
    "from thompson_sampling.priors import GammaPrior\n",
    "from pandas import Series"
   ]
  },
  {
   "cell_type": "markdown",
   "metadata": {},
   "source": [
    "### Create Priors and Instantiate Experiment with Priors"
   ]
  },
  {
   "cell_type": "code",
   "execution_count": 2,
   "metadata": {},
   "outputs": [],
   "source": [
    "means = Series([.100, .110, .75])\n",
    "variances = Series([.075, .0200, None])\n",
    "effective_sizes = Series([None, None, 3])\n",
    "labels = Series([\"option1\", \"option2\", \"option3\"])"
   ]
  },
  {
   "cell_type": "code",
   "execution_count": 3,
   "metadata": {},
   "outputs": [
    {
     "data": {
      "text/plain": [
       "{'option1': {'shape': 0.133, 'scale': 0.75},\n",
       " 'option2': {'shape': 0.605, 'scale': 0.182},\n",
       " 'option3': {'shape': 2.25, 'scale': 0.333}}"
      ]
     },
     "execution_count": 3,
     "metadata": {},
     "output_type": "execute_result"
    }
   ],
   "source": [
    "pr = GammaPrior()\n",
    "pr.add_multiple(means, variances, effective_sizes, labels)\n",
    "pr.priors"
   ]
  },
  {
   "cell_type": "code",
   "execution_count": 5,
   "metadata": {},
   "outputs": [],
   "source": [
    "experiment = ExponentialExperiment(priors = pr)"
   ]
  },
  {
   "cell_type": "markdown",
   "metadata": {},
   "source": [
    "### Choose arms for the next experiment"
   ]
  },
  {
   "cell_type": "code",
   "execution_count": 8,
   "metadata": {},
   "outputs": [
    {
     "data": {
      "text/plain": [
       "'option2'"
      ]
     },
     "execution_count": 8,
     "metadata": {},
     "output_type": "execute_result"
    }
   ],
   "source": [
    "experiment.choose_arm()"
   ]
  },
  {
   "cell_type": "code",
   "execution_count": 9,
   "metadata": {},
   "outputs": [
    {
     "data": {
      "text/plain": [
       "'option1'"
      ]
     },
     "execution_count": 9,
     "metadata": {},
     "output_type": "execute_result"
    }
   ],
   "source": [
    "experiment.choose_arm()"
   ]
  },
  {
   "cell_type": "markdown",
   "metadata": {},
   "source": [
    "### Simulate posterior predictive distributions for all labels"
   ]
  },
  {
   "cell_type": "code",
   "execution_count": 10,
   "metadata": {},
   "outputs": [
    {
     "data": {
      "text/plain": [
       "[{'Label': 'option1',\n",
       "  '95% Credible Interval': (0.0, 597424321145.081),\n",
       "  'mean': 2.1267634487009516e+23},\n",
       " {'Label': 'option2',\n",
       "  '95% Credible Interval': (0.0, 2675.275),\n",
       "  'mean': 2071.513},\n",
       " {'Label': 'option3', '95% Credible Interval': (0.0, 11.0), 'mean': 1.949}]"
      ]
     },
     "execution_count": 10,
     "metadata": {},
     "output_type": "execute_result"
    }
   ],
   "source": [
    "experiment.get_ppd(size = 5000) # size is the number of values to simulate for the distributions"
   ]
  },
  {
   "cell_type": "markdown",
   "metadata": {},
   "source": [
    "We can see the different distributions of the posterior predictives based on the current posterior"
   ]
  },
  {
   "cell_type": "markdown",
   "metadata": {},
   "source": [
    "### Update the options by providing the rewards\n"
   ]
  },
  {
   "cell_type": "code",
   "execution_count": 11,
   "metadata": {},
   "outputs": [
    {
     "data": {
      "text/plain": [
       "<thompson_sampling.exponential.ExponentialExperiment at 0x11d99ffd0>"
      ]
     },
     "execution_count": 11,
     "metadata": {},
     "output_type": "execute_result"
    }
   ],
   "source": [
    "rewards = [{\"label\":\"option1\", \"reward\":150},{\"label\":\"option2\", \"reward\":30},{\"label\":\"option2\", \"reward\":10}]\n",
    "experiment.add_rewards(rewards)"
   ]
  },
  {
   "cell_type": "code",
   "execution_count": 12,
   "metadata": {},
   "outputs": [
    {
     "data": {
      "text/plain": [
       "[{'Label': 'option1',\n",
       "  '95% Credible Interval': (3.0, 3371.15),\n",
       "  'mean': 621.831},\n",
       " {'Label': 'option2', '95% Credible Interval': (0.0, 148.025), 'mean': 29.257},\n",
       " {'Label': 'option3', '95% Credible Interval': (0.0, 12.0), 'mean': 2.025}]"
      ]
     },
     "execution_count": 12,
     "metadata": {},
     "output_type": "execute_result"
    }
   ],
   "source": [
    "experiment.get_ppd(size=5000)"
   ]
  },
  {
   "cell_type": "markdown",
   "metadata": {},
   "source": [
    "We can see that the percentiles for \"option1\" and \"option2\" have changed with the added information"
   ]
  },
  {
   "cell_type": "markdown",
   "metadata": {},
   "source": [
    "### View distribution of the posteriors"
   ]
  },
  {
   "cell_type": "code",
   "execution_count": 13,
   "metadata": {},
   "outputs": [
    {
     "data": {
      "image/png": "[encoded data removed]",
      "text/plain": [
       "<Figure size 432x288 with 1 Axes>"
      ]
     },
     "metadata": {
      "needs_background": "light"
     },
     "output_type": "display_data"
    }
   ],
   "source": [
    "experiment.plot_posterior()"
   ]
  },
  {
   "cell_type": "code",
   "execution_count": null,
   "metadata": {},
   "outputs": [],
   "source": []
  }
 ],
 "metadata": {
  "kernelspec": {
   "display_name": "thompson-sampling-kernel",
   "language": "python",
   "name": "thompson-sampling-kernel"
  },
  "language_info": {
   "codemirror_mode": {
    "name": "ipython",
    "version": 3
   },
   "file_extension": ".py",
   "mimetype": "text/x-python",
   "name": "python",
   "nbconvert_exporter": "python",
   "pygments_lexer": "ipython3",
   "version": "3.6.5"
  }
 },
 "nbformat": 4,
 "nbformat_minor": 2
}
