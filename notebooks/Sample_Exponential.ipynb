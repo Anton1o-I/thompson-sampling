{
 "cells": [
  {
   "cell_type": "markdown",
   "metadata": {},
   "source": [
    "# Exponential Thompson Sampling Experiment"
   ]
  },
  {
   "cell_type": "markdown",
   "metadata": {},
   "source": [
    "### Import Modules"
   ]
  },
  {
   "cell_type": "code",
   "execution_count": 1,
   "metadata": {},
   "outputs": [],
   "source": [
    "from thompson_sampling.exponential import ExponentialExperiment\n",
    "from thompson_sampling.priors import GammaPrior\n",
    "from pandas import Series"
   ]
  },
  {
   "cell_type": "markdown",
   "metadata": {},
   "source": [
    "### Create Priors and Instantiate Experiment with Priors"
   ]
  },
  {
   "cell_type": "code",
   "execution_count": 2,
   "metadata": {},
   "outputs": [],
   "source": [
    "means = Series([.100, .110, .75])\n",
    "variances = Series([.075, .0200, None])\n",
    "effective_sizes = Series([None, None, 3])\n",
    "labels = Series([\"option1\", \"option2\", \"option3\"])"
   ]
  },
  {
   "cell_type": "code",
   "execution_count": 3,
   "metadata": {},
   "outputs": [
    {
     "data": {
      "text/plain": [
       "{'option1': {'shape': 0.133, 'scale': 0.75},\n",
       " 'option2': {'shape': 0.605, 'scale': 0.182},\n",
       " 'option3': {'shape': 2.25, 'scale': 0.333}}"
      ]
     },
     "execution_count": 3,
     "metadata": {},
     "output_type": "execute_result"
    }
   ],
   "source": [
    "pr = GammaPrior()\n",
    "pr.add_multiple(means, variances, effective_sizes, labels)\n",
    "pr.priors"
   ]
  },
  {
   "cell_type": "code",
   "execution_count": 4,
   "metadata": {},
   "outputs": [],
   "source": [
    "experiment = ExponentialExperiment(priors = pr)"
   ]
  },
  {
   "cell_type": "markdown",
   "metadata": {},
   "source": [
    "### Choose arms for the next experiment"
   ]
  },
  {
   "cell_type": "code",
   "execution_count": 5,
   "metadata": {},
   "outputs": [
    {
     "data": {
      "text/plain": [
       "'option1'"
      ]
     },
     "execution_count": 5,
     "metadata": {},
     "output_type": "execute_result"
    }
   ],
   "source": [
    "experiment.choose_arm()"
   ]
  },
  {
   "cell_type": "code",
   "execution_count": 6,
   "metadata": {},
   "outputs": [
    {
     "data": {
      "text/plain": [
       "'option1'"
      ]
     },
     "execution_count": 6,
     "metadata": {},
     "output_type": "execute_result"
    }
   ],
   "source": [
    "experiment.choose_arm()"
   ]
  },
  {
   "cell_type": "markdown",
   "metadata": {},
   "source": [
    "### Simulate posterior predictive distributions for all labels"
   ]
  },
  {
   "cell_type": "code",
   "execution_count": 7,
   "metadata": {},
   "outputs": [
    {
     "data": {
      "text/plain": [
       "[{'Label': 'option1',\n",
       "  '95% Credible Interval': (0.0, 1394525119952.342),\n",
       "  'mean': 1.0854895582915409e+33},\n",
       " {'Label': 'option2',\n",
       "  '95% Credible Interval': (0.0, 2204.675),\n",
       "  'mean': 5690.801},\n",
       " {'Label': 'option3', '95% Credible Interval': (0.0, 14.0), 'mean': 2.208}]"
      ]
     },
     "execution_count": 7,
     "metadata": {},
     "output_type": "execute_result"
    }
   ],
   "source": [
    "experiment.get_ppd(size = 5000) # size is the number of values to simulate for the distributions"
   ]
  },
  {
   "cell_type": "markdown",
   "metadata": {},
   "source": [
    "We can see the different distributions of the posterior predictives based on the current posterior"
   ]
  },
  {
   "cell_type": "markdown",
   "metadata": {},
   "source": [
    "### Update the options by providing the rewards\n"
   ]
  },
  {
   "cell_type": "code",
   "execution_count": 19,
   "metadata": {},
   "outputs": [
    {
     "data": {
      "text/plain": [
       "<thompson_sampling.exponential.ExponentialExperiment at 0x125e47860>"
      ]
     },
     "execution_count": 19,
     "metadata": {},
     "output_type": "execute_result"
    }
   ],
   "source": [
    "rewards = [{\"label\":\"option1\", \"reward\":150},{\"label\":\"option2\", \"reward\":30},{\"label\":\"option2\", \"reward\":10}]\n",
    "experiment.add_rewards(rewards)"
   ]
  },
  {
   "cell_type": "code",
   "execution_count": 20,
   "metadata": {},
   "outputs": [
    {
     "data": {
      "text/plain": [
       "[{'Label': 'option1',\n",
       "  '95% Credible Interval': (3.0, 654.025),\n",
       "  'mean': 159.186},\n",
       " {'Label': 'option2', '95% Credible Interval': (0.0, 81.0), 'mean': 20.539},\n",
       " {'Label': 'option3', '95% Credible Interval': (0.0, 11.0), 'mean': 1.852}]"
      ]
     },
     "execution_count": 20,
     "metadata": {},
     "output_type": "execute_result"
    }
   ],
   "source": [
    "experiment.get_ppd(size=5000)"
   ]
  },
  {
   "cell_type": "markdown",
   "metadata": {},
   "source": [
    "We can see that the percentiles for \"option1\" and \"option2\" have changed with the added information"
   ]
  },
  {
   "cell_type": "markdown",
   "metadata": {},
   "source": [
    "### View distribution of the posteriors"
   ]
  },
  {
   "cell_type": "code",
   "execution_count": 21,
   "metadata": {},
   "outputs": [
    {
     "data": {
      "image/png": "[encoded data removed]",
      "text/plain": [
       "<Figure size 432x288 with 1 Axes>"
      ]
     },
     "metadata": {
      "needs_background": "light"
     },
     "output_type": "display_data"
    }
   ],
   "source": [
    "experiment.plot_posterior()"
   ]
  },
  {
   "cell_type": "code",
   "execution_count": 26,
   "metadata": {},
   "outputs": [
    {
     "data": {
      "text/plain": [
       "array([0.00819051, 0.00503048, 0.00656725, 0.00921218, 0.01045425,\n",
       "       0.0055071 , 0.00721851, 0.00596666, 0.01101615, 0.00880809])"
      ]
     },
     "execution_count": 26,
     "metadata": {},
     "output_type": "execute_result"
    }
   ],
   "source": [
    "experiment._sample_posterior(size=10, key=\"option1\")"
   ]
  },
  {
   "cell_type": "code",
   "execution_count": 28,
   "metadata": {},
   "outputs": [
    {
     "data": {
      "text/plain": [
       "array([0.57305717, 0.75094676, 0.54163707, 1.15043149, 0.56943766,\n",
       "       0.21748846, 0.45894773, 1.58224253, 2.82817551, 1.29309619])"
      ]
     },
     "execution_count": 28,
     "metadata": {},
     "output_type": "execute_result"
    }
   ],
   "source": [
    "experiment._sample_posterior(size=10, key=\"option3\")"
   ]
  },
  {
   "cell_type": "code",
   "execution_count": 29,
   "metadata": {},
   "outputs": [
    {
     "data": {
      "text/plain": [
       "{'option1': {'shape': 6.133, 'scale': 0.0012},\n",
       " 'option2': {'shape': 12.605, 'scale': 0.0041},\n",
       " 'option3': {'shape': 2.25, 'scale': 0.333}}"
      ]
     },
     "execution_count": 29,
     "metadata": {},
     "output_type": "execute_result"
    }
   ],
   "source": [
    "experiment.posteriors"
   ]
  },
  {
   "cell_type": "code",
   "execution_count": null,
   "metadata": {},
   "outputs": [],
   "source": []
  }
 ],
 "metadata": {
  "kernelspec": {
   "display_name": "thompson-sampling-kernel",
   "language": "python",
   "name": "thompson-sampling-kernel"
  },
  "language_info": {
   "codemirror_mode": {
    "name": "ipython",
    "version": 3
   },
   "file_extension": ".py",
   "mimetype": "text/x-python",
   "name": "python",
   "nbconvert_exporter": "python",
   "pygments_lexer": "ipython3",
   "version": "3.6.5"
  }
 },
 "nbformat": 4,
 "nbformat_minor": 2
}
